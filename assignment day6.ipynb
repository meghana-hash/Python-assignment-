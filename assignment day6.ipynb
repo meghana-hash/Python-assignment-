{
 "cells": [
  {
   "cell_type": "code",
   "execution_count": 5,
   "metadata": {},
   "outputs": [
    {
     "name": "stdout",
     "output_type": "stream",
     "text": [
      "Original key list is : [1, 2, 3, 4, 5]\n",
      "Original value list is : ['a', 'b', 'c', 'd', 'e']\n",
      "Resultant dictionary is : {1: 'a', 2: 'b', 3: 'c', 4: 'd', 5: 'e'}\n"
     ]
    }
   ],
   "source": [
    "\n",
    "list1 = [1,2,3,4,5] \n",
    "list2 = [\"a\",\"b\",\"c\",\"d\",\"e\"] \n",
    "  \n",
    "\n",
    "print (\"Original key list is : \" + str(list1)) \n",
    "print (\"Original value list is : \" + str(list2)) \n",
    "  \n",
    "\n",
    "res = {list1[i]:list2[i] for i in range(len(list1))} \n",
    "print (\"Resultant dictionary is : \" +  str(res)) \n"
   ]
  },
  {
   "cell_type": "code",
   "execution_count": null,
   "metadata": {},
   "outputs": [],
   "source": []
  },
  {
   "cell_type": "code",
   "execution_count": null,
   "metadata": {},
   "outputs": [],
   "source": []
  }
 ],
 "metadata": {
  "kernelspec": {
   "display_name": "Python 3",
   "language": "python",
   "name": "python3"
  }
 },
 "nbformat": 4,
 "nbformat_minor": 2
}
