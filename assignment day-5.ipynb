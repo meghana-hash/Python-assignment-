{
 "cells": [
  {
   "cell_type": "code",
   "execution_count": 22,
   "metadata": {},
   "outputs": [
    {
     "name": "stdout",
     "output_type": "stream",
     "text": [
      "list after pushing all zeros to end of list:\n",
      "[1, 1, 2, 2, 4, 4, 4, 10, 13, 56, 56, 0, 0, 0, 0]\n"
     ]
    }
   ],
   "source": [
    "#to sort the list in increasing order but all the zeroes should be at right side\n",
    "\n",
    "\n",
    "def pushZerosToEnd(list, n): \n",
    "\n",
    "    count = 0 \n",
    "    for i in range(n): \n",
    "\n",
    "        if list[i] != 0: \n",
    "\n",
    "              \n",
    "\n",
    "            \n",
    "\n",
    "            list[count] = list[i] \n",
    "\n",
    "            count+=1\n",
    "\n",
    "      \n",
    "\n",
    "    \n",
    "\n",
    "    while count < n: \n",
    "\n",
    "        list[count] = 0\n",
    "\n",
    "        count += 1\n",
    "        list.sort(key=lambda i:(1 if i ==0 else 0, i))\n",
    "\n",
    "          \n",
    "\n",
    "\n",
    "list = [0,1,2,10,4,1,0,56,2,0,13,0,56,0,4] \n",
    "\n",
    "n = len(list) \n",
    "pushZerosToEnd(list, n) \n",
    "\n",
    "print(\"list after pushing all zeros to end of list:\") \n",
    "\n",
    "print(list) \n",
    "\n",
    "  \n",
    "\n",
    "\n"
   ]
  },
  {
   "cell_type": "code",
   "execution_count": 28,
   "metadata": {},
   "outputs": [
    {
     "name": "stdout",
     "output_type": "stream",
     "text": [
      "The original list 1 is : [10, 20, 40, 60, 70, 80]\n",
      "The original list 2 is : [5, 15, 25, 35, 45, 60]\n",
      "The combined sorted list is : [5, 10, 15, 20, 25, 35, 40, 45, 60, 60, 70, 80]\n"
     ]
    }
   ],
   "source": [
    "#merge the two sorted list to produce one list  using while loop\n",
    "\n",
    "  \n",
    "\n",
    "test_list1 = [10,20,40,60,70,80] \n",
    "test_list2 = [5,15,25,35,45,60] \n",
    "  \n",
    "print (\"The original list 1 is : \" + str(test_list1)) \n",
    "print (\"The original list 2 is : \" + str(test_list2)) \n",
    "  \n",
    "size_1 = len(test_list1) \n",
    "size_2 = len(test_list2) \n",
    "  \n",
    "res = [] \n",
    "i, j = 0, 0\n",
    "  \n",
    "while i < size_1 and j < size_2: \n",
    "    if test_list1[i] < test_list2[j]: \n",
    "        res.append(test_list1[i]) \n",
    "        i += 1\n",
    "    else: \n",
    "        res.append(test_list2[j]) \n",
    "        j += 1\n",
    "        \n",
    "res = res + test_list1[i:] + test_list2[j:] \n",
    "        \n",
    "print (\"The combined sorted list is : \" + str(res))\n"
   ]
  },
  {
   "cell_type": "code",
   "execution_count": null,
   "metadata": {},
   "outputs": [],
   "source": []
  },
  {
   "cell_type": "code",
   "execution_count": null,
   "metadata": {},
   "outputs": [],
   "source": []
  }
 ],
 "metadata": {
  "kernelspec": {
   "display_name": "Python 3",
   "language": "python",
   "name": "python3"
  },
  "language_info": {
   "codemirror_mode": {
    "name": "ipython",
    "version": 3
   },
   "file_extension": ".py",
   "mimetype": "text/x-python",
   "name": "python",
   "nbconvert_exporter": "python",
   "pygments_lexer": "ipython3",
   "version": "3.7.4"
  }
 },
 "nbformat": 4,
 "nbformat_minor": 2
}
